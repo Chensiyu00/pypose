{
 "cells": [
  {
   "cell_type": "code",
   "execution_count": 1,
   "id": "afbb588f",
   "metadata": {},
   "outputs": [],
   "source": [
    "import torch\n",
    "import pypose as pp"
   ]
  },
  {
   "cell_type": "markdown",
   "id": "21ff76e3",
   "metadata": {},
   "source": [
    "# 1. Intialization"
   ]
  },
  {
   "cell_type": "code",
   "execution_count": 2,
   "id": "77de72ad",
   "metadata": {},
   "outputs": [
    {
     "data": {
      "text/plain": [
       "(torch.Size([2, 1, 7]),\n",
       " torch.Size([2, 1]),\n",
       " SE3Type Group:\n",
       " tensor([[0., 0., 0., 0., 0., 0., 1.],\n",
       "         [0., 0., 0., 0., 0., 0., 1.]]),\n",
       " se3Type Group:\n",
       " tensor([[[ 0.0974, -0.2853,  0.4504, -1.0356, -1.2460,  0.9960],\n",
       "          [-0.7348, -0.4837,  1.4968,  1.0494, -0.5384,  0.0581]],\n",
       " \n",
       "         [[-1.2987,  0.6818,  0.3893, -1.0907,  0.8857, -1.7561],\n",
       "          [ 1.8152, -0.3177, -0.9430, -0.3018, -0.2136,  0.7108]]]))"
      ]
     },
     "execution_count": 2,
     "metadata": {},
     "output_type": "execute_result"
    }
   ],
   "source": [
    "x = pp.identity_SE3(2,1)\n",
    "y = pp.randn_se3(2,2)\n",
    "x.shape, x.gshape, x.gview(2), y"
   ]
  },
  {
   "cell_type": "markdown",
   "id": "1cff3249",
   "metadata": {},
   "source": [
    "### All arguments in PyTorch are supported"
   ]
  },
  {
   "cell_type": "code",
   "execution_count": 3,
   "id": "3003efc0",
   "metadata": {},
   "outputs": [
    {
     "data": {
      "text/plain": [
       "(SO3Type Group:\n",
       " tensor([[ 0.1040,  0.6170, -0.0862,  0.7753],\n",
       "         [-0.6747,  0.4758, -0.4921,  0.2762],\n",
       "         [-0.5743,  0.2541,  0.7776, -0.0299]], device='cuda:0',\n",
       "        dtype=torch.float64, requires_grad=True),\n",
       " SO3Type Group:\n",
       " tensor([[0., 0., 0., 1.],\n",
       "         [0., 0., 0., 1.],\n",
       "         [0., 0., 0., 1.]]))"
      ]
     },
     "execution_count": 3,
     "metadata": {},
     "output_type": "execute_result"
    }
   ],
   "source": [
    "a = pp.randn_SO3(3, device=\"cuda:0\", dtype=torch.double, requires_grad=True)\n",
    "b = pp.identity_like(a, device=\"cpu\")\n",
    "a, b"
   ]
  },
  {
   "cell_type": "markdown",
   "id": "e7ea61f8",
   "metadata": {},
   "source": [
    "# 2. Basic Operations"
   ]
  },
  {
   "cell_type": "code",
   "execution_count": 4,
   "id": "b6927dac",
   "metadata": {},
   "outputs": [
    {
     "data": {
      "text/plain": [
       "se3Type Group:\n",
       "tensor([[[ 0.0974, -0.2853,  0.4504, -1.0356, -1.2460,  0.9960],\n",
       "         [-0.7348, -0.4837,  1.4968,  1.0494, -0.5384,  0.0581]],\n",
       "\n",
       "        [[-1.2987,  0.6818,  0.3893, -1.0907,  0.8857, -1.7561],\n",
       "         [ 1.8152, -0.3177, -0.9430, -0.3018, -0.2136,  0.7108]]])"
      ]
     },
     "execution_count": 4,
     "metadata": {},
     "output_type": "execute_result"
    }
   ],
   "source": [
    "(x * y.Exp()).Log()"
   ]
  },
  {
   "cell_type": "markdown",
   "id": "f94d83b4",
   "metadata": {},
   "source": [
    "# 3. Adjoint Transforms"
   ]
  },
  {
   "cell_type": "code",
   "execution_count": 5,
   "id": "23028575",
   "metadata": {},
   "outputs": [
    {
     "name": "stdout",
     "output_type": "stream",
     "text": [
      "tensor(True)\n"
     ]
    }
   ],
   "source": [
    "X = pp.randn_Sim3(6, dtype=torch.double)\n",
    "a = pp.randn_sim3(6, dtype=torch.double)\n",
    "b = X.AdjT(a)\n",
    "print((X * b.Exp() - a.Exp() * X).abs().mean() < 1e-7)"
   ]
  },
  {
   "cell_type": "code",
   "execution_count": 6,
   "id": "c8a2cca5",
   "metadata": {},
   "outputs": [
    {
     "name": "stdout",
     "output_type": "stream",
     "text": [
      "tensor(False)\n"
     ]
    }
   ],
   "source": [
    "X = pp.randn_SE3(8)\n",
    "a = pp.randn_se3(8)\n",
    "b = X.Adj(a)\n",
    "print((b.Exp() * X - X * a.Exp()).abs().mean() < 1e-7)"
   ]
  },
  {
   "cell_type": "markdown",
   "id": "fef005df",
   "metadata": {},
   "source": [
    "# 4. Grdients"
   ]
  },
  {
   "cell_type": "code",
   "execution_count": 7,
   "id": "331ff3f2",
   "metadata": {},
   "outputs": [
    {
     "data": {
      "text/plain": [
       "(tensor(0.0848, device='cuda:0', grad_fn=<AliasBackward0>),\n",
       " tensor([[-0.0391, -0.1069,  0.1934],\n",
       "         [ 0.3660,  0.0102, -0.2539],\n",
       "         [-0.2846,  0.0647,  0.0703]], device='cuda:0'))"
      ]
     },
     "execution_count": 7,
     "metadata": {},
     "output_type": "execute_result"
    }
   ],
   "source": [
    "x = pp.randn_so3(3, sigma=0.1, requires_grad=True, device=\"cuda\")\n",
    "assert x.is_leaf\n",
    "loss = (x.Exp().Log()**2).sin().sum() # Just test, No phisical meaning\n",
    "loss.backward()\n",
    "loss, x.grad"
   ]
  },
  {
   "cell_type": "markdown",
   "id": "ff7c91bb",
   "metadata": {},
   "source": [
    "# 5. Test a Module"
   ]
  },
  {
   "cell_type": "code",
   "execution_count": 8,
   "id": "0bd984bd",
   "metadata": {},
   "outputs": [
    {
     "name": "stdout",
     "output_type": "stream",
     "text": [
      "so3Type Group:\n",
      "Parameter containing:\n",
      "tensor([[-1.4291, -0.4316, -0.8247],\n",
      "        [ 0.3231,  0.7220,  0.5205],\n",
      "        [-0.8938, -0.3425,  0.2319],\n",
      "        [-0.7705,  2.4652, -1.5557]], device='cuda:0', requires_grad=True)\n",
      "tensor(6.8381, device='cuda:0', grad_fn=<AliasBackward0>)\n",
      "tensor(7.0205, device='cuda:0', grad_fn=<AliasBackward0>)\n",
      "tensor(6.2309, device='cuda:0', grad_fn=<AliasBackward0>)\n",
      "tensor(6.7122, device='cuda:0', grad_fn=<AliasBackward0>)\n",
      "tensor(7.1693, device='cuda:0', grad_fn=<AliasBackward0>)\n",
      "Parameter: 12\n",
      "so3Type Group:\n",
      "Parameter containing:\n",
      "tensor([[-0.2157,  0.3625, -0.0970],\n",
      "        [-0.4382,  0.3598, -0.5673],\n",
      "        [-0.6617,  0.7419,  0.3041],\n",
      "        [-0.8341,  1.1444, -0.7140]], device='cuda:0', requires_grad=True)\n"
     ]
    }
   ],
   "source": [
    "from torch import nn\n",
    "\n",
    "def count_parameters(model):\n",
    "    return sum(p.numel() for p in model.parameters() if p.requires_grad)\n",
    "\n",
    "class TestNet(nn.Module):\n",
    "    def __init__(self, n):\n",
    "        super().__init__()\n",
    "        self.weight = pp.Parameter(pp.randn_so3(n))\n",
    "\n",
    "    def forward(self, x):\n",
    "        return self.weight.Exp() * x\n",
    "\n",
    "\n",
    "n,epoch = 4, 5\n",
    "net = TestNet(n).cuda()\n",
    "\n",
    "optimizer = torch.optim.SGD(net.parameters(), lr = 0.2, momentum=0.9)\n",
    "scheduler = torch.optim.lr_scheduler.MultiStepLR(optimizer, milestones=[2,4], gamma=0.5)\n",
    "\n",
    "print(net.weight)\n",
    "for i in range(epoch):\n",
    "    optimizer.zero_grad()\n",
    "    inputs = pp.randn_SO3(n).cuda()\n",
    "    outputs = net(inputs)\n",
    "    loss = outputs.abs().sum()\n",
    "    loss.backward()\n",
    "    optimizer.step()\n",
    "    scheduler.step()\n",
    "    print(loss)\n",
    "\n",
    "print(\"Parameter:\", count_parameters(net))\n",
    "print(net.weight)"
   ]
  }
 ],
 "metadata": {
  "kernelspec": {
   "display_name": "Python 3",
   "language": "python",
   "name": "python3"
  },
  "language_info": {
   "codemirror_mode": {
    "name": "ipython",
    "version": 3
   },
   "file_extension": ".py",
   "mimetype": "text/x-python",
   "name": "python",
   "nbconvert_exporter": "python",
   "pygments_lexer": "ipython3",
   "version": "3.9.7"
  }
 },
 "nbformat": 4,
 "nbformat_minor": 5
}
