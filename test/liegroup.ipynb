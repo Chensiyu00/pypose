{
 "cells": [
  {
   "cell_type": "code",
   "execution_count": 1,
   "id": "afbb588f",
   "metadata": {},
   "outputs": [],
   "source": [
    "import torch\n",
    "import pypose as pp"
   ]
  },
  {
   "cell_type": "markdown",
   "id": "21ff76e3",
   "metadata": {},
   "source": [
    "# 1. Intialization"
   ]
  },
  {
   "cell_type": "code",
   "execution_count": 2,
   "id": "77de72ad",
   "metadata": {},
   "outputs": [
    {
     "data": {
      "text/plain": [
       "(so3Type Group:\n",
       " tensor([[ 0.2190, -0.7519,  0.1777],\n",
       "         [ 0.3727,  0.3371,  0.6431]]),\n",
       " torch.Size([2, 1, 7]),\n",
       " torch.Size([2, 1]),\n",
       " SE3Type Group:\n",
       " tensor([[0., 0., 0., 0., 0., 0., 1.],\n",
       "         [0., 0., 0., 0., 0., 0., 1.]]),\n",
       " se3Type Group:\n",
       " tensor([[[ 1.0556,  0.4348,  0.0487, -0.3620, -0.6900,  0.6192],\n",
       "          [-0.5872, -0.9864, -0.5331,  0.1646,  1.5045,  0.8371]],\n",
       " \n",
       "         [[ 0.4859,  0.8837, -0.7357, -1.4727,  1.0960,  0.0509],\n",
       "          [ 0.3445,  0.1424, -0.1667,  0.1331,  1.5327, -0.6572]]]))"
      ]
     },
     "execution_count": 2,
     "metadata": {},
     "output_type": "execute_result"
    }
   ],
   "source": [
    "x = pp.identity_SE3(2,1)\n",
    "y = pp.randn_se3(2,2)\n",
    "n = torch.randn(2,3)\n",
    "a = pp.so3(n)\n",
    "a, x.shape, x.gshape, x.gview(2), y"
   ]
  },
  {
   "cell_type": "markdown",
   "id": "1cff3249",
   "metadata": {},
   "source": [
    "### All arguments in PyTorch are supported"
   ]
  },
  {
   "cell_type": "code",
   "execution_count": 3,
   "id": "3003efc0",
   "metadata": {},
   "outputs": [
    {
     "data": {
      "text/plain": [
       "(SO3Type Group:\n",
       " tensor([[ 0.1838, -0.3487,  0.0065,  0.9190],\n",
       "         [-0.0114, -0.5920, -0.6765,  0.4380],\n",
       "         [-0.5413,  0.6844, -0.4458,  0.1995]], device='cuda:0',\n",
       "        dtype=torch.float64, requires_grad=True),\n",
       " SO3Type Group:\n",
       " tensor([[0., 0., 0., 1.],\n",
       "         [0., 0., 0., 1.],\n",
       "         [0., 0., 0., 1.]]))"
      ]
     },
     "execution_count": 3,
     "metadata": {},
     "output_type": "execute_result"
    }
   ],
   "source": [
    "a = pp.randn_SO3(3, device=\"cuda:0\", dtype=torch.double, requires_grad=True)\n",
    "b = pp.identity_like(a, device=\"cpu\")\n",
    "a, b"
   ]
  },
  {
   "cell_type": "markdown",
   "id": "e7ea61f8",
   "metadata": {},
   "source": [
    "# 2. Basic Operations"
   ]
  },
  {
   "cell_type": "code",
   "execution_count": 4,
   "id": "b6927dac",
   "metadata": {},
   "outputs": [
    {
     "data": {
      "text/plain": [
       "se3Type Group:\n",
       "tensor([[[ 1.0556,  0.4348,  0.0487, -0.3620, -0.6900,  0.6192],\n",
       "         [-0.5872, -0.9864, -0.5331,  0.1646,  1.5045,  0.8371]],\n",
       "\n",
       "        [[ 0.4859,  0.8837, -0.7357, -1.4727,  1.0960,  0.0509],\n",
       "         [ 0.3445,  0.1424, -0.1667,  0.1331,  1.5327, -0.6572]]])"
      ]
     },
     "execution_count": 4,
     "metadata": {},
     "output_type": "execute_result"
    }
   ],
   "source": [
    "(x * y.Exp()).Log()"
   ]
  },
  {
   "cell_type": "markdown",
   "id": "f94d83b4",
   "metadata": {},
   "source": [
    "# 3. Adjoint Transforms"
   ]
  },
  {
   "cell_type": "code",
   "execution_count": 5,
   "id": "23028575",
   "metadata": {},
   "outputs": [
    {
     "name": "stdout",
     "output_type": "stream",
     "text": [
      "tensor(True)\n"
     ]
    }
   ],
   "source": [
    "X = pp.randn_Sim3(6, dtype=torch.double)\n",
    "a = pp.randn_sim3(6, dtype=torch.double)\n",
    "b = X.AdjT(a)\n",
    "print((X * b.Exp() - a.Exp() * X).abs().mean() < 1e-7)"
   ]
  },
  {
   "cell_type": "code",
   "execution_count": 6,
   "id": "c8a2cca5",
   "metadata": {},
   "outputs": [
    {
     "name": "stdout",
     "output_type": "stream",
     "text": [
      "tensor(True)\n"
     ]
    }
   ],
   "source": [
    "X = pp.randn_SE3(8)\n",
    "a = pp.randn_se3(8)\n",
    "b = X.Adj(a)\n",
    "print((b.Exp() * X - X * a.Exp()).abs().mean() < 1e-7)"
   ]
  },
  {
   "cell_type": "markdown",
   "id": "fef005df",
   "metadata": {},
   "source": [
    "# 4. Grdients"
   ]
  },
  {
   "cell_type": "code",
   "execution_count": 7,
   "id": "331ff3f2",
   "metadata": {},
   "outputs": [
    {
     "data": {
      "text/plain": [
       "(tensor(0.0651, device='cuda:0', grad_fn=<AliasBackward0>),\n",
       " tensor([[ 0.2175, -0.0455,  0.1925],\n",
       "         [-0.1824,  0.2808,  0.2126],\n",
       "         [-0.0128, -0.1233, -0.0324]], device='cuda:0'))"
      ]
     },
     "execution_count": 7,
     "metadata": {},
     "output_type": "execute_result"
    }
   ],
   "source": [
    "x = pp.randn_so3(3, sigma=0.1, requires_grad=True, device=\"cuda\")\n",
    "assert x.is_leaf\n",
    "loss = (x.Exp().Log()**2).sin().sum() # Just test, No phisical meaning\n",
    "loss.backward()\n",
    "loss, x.grad"
   ]
  },
  {
   "cell_type": "markdown",
   "id": "ff7c91bb",
   "metadata": {},
   "source": [
    "# 5. Test a Module"
   ]
  },
  {
   "cell_type": "code",
   "execution_count": 8,
   "id": "0bd984bd",
   "metadata": {},
   "outputs": [
    {
     "name": "stdout",
     "output_type": "stream",
     "text": [
      "so3Type Group:\n",
      "Parameter containing:\n",
      "tensor([[-0.7629, -0.4715,  1.4965],\n",
      "        [ 0.8281, -0.1802,  1.7058],\n",
      "        [ 0.6121,  1.7299,  0.8937],\n",
      "        [-1.5227,  1.2603,  1.5654]], device='cuda:0', requires_grad=True)\n",
      "tensor(7.0401, device='cuda:0', grad_fn=<AliasBackward0>)\n",
      "tensor(7.1958, device='cuda:0', grad_fn=<AliasBackward0>)\n",
      "tensor(7.2081, device='cuda:0', grad_fn=<AliasBackward0>)\n",
      "tensor(6.3249, device='cuda:0', grad_fn=<AliasBackward0>)\n",
      "tensor(7.2525, device='cuda:0', grad_fn=<AliasBackward0>)\n",
      "Parameter: 12\n",
      "so3Type Group:\n",
      "Parameter containing:\n",
      "tensor([[-0.6462, -0.3148,  0.3560],\n",
      "        [-0.2815,  0.1488,  0.6884],\n",
      "        [ 0.4615,  0.6315,  1.0637],\n",
      "        [ 0.0093,  0.5062,  0.9129]], device='cuda:0', requires_grad=True)\n"
     ]
    }
   ],
   "source": [
    "from torch import nn\n",
    "\n",
    "def count_parameters(model):\n",
    "    return sum(p.numel() for p in model.parameters() if p.requires_grad)\n",
    "\n",
    "class TestNet(nn.Module):\n",
    "    def __init__(self, n):\n",
    "        super().__init__()\n",
    "        self.weight = pp.Parameter(pp.randn_so3(n))\n",
    "\n",
    "    def forward(self, x):\n",
    "        return self.weight.Exp() * x\n",
    "\n",
    "\n",
    "n,epoch = 4, 5\n",
    "net = TestNet(n).cuda()\n",
    "\n",
    "optimizer = torch.optim.SGD(net.parameters(), lr = 0.2, momentum=0.9)\n",
    "scheduler = torch.optim.lr_scheduler.MultiStepLR(optimizer, milestones=[2,4], gamma=0.5)\n",
    "\n",
    "print(net.weight)\n",
    "for i in range(epoch):\n",
    "    optimizer.zero_grad()\n",
    "    inputs = pp.randn_SO3(n).cuda()\n",
    "    outputs = net(inputs)\n",
    "    loss = outputs.abs().sum()\n",
    "    loss.backward()\n",
    "    optimizer.step()\n",
    "    scheduler.step()\n",
    "    print(loss)\n",
    "\n",
    "print(\"Parameter:\", count_parameters(net))\n",
    "print(net.weight)"
   ]
  }
 ],
 "metadata": {
  "kernelspec": {
   "display_name": "Python 3",
   "language": "python",
   "name": "python3"
  },
  "language_info": {
   "codemirror_mode": {
    "name": "ipython",
    "version": 3
   },
   "file_extension": ".py",
   "mimetype": "text/x-python",
   "name": "python",
   "nbconvert_exporter": "python",
   "pygments_lexer": "ipython3",
   "version": "3.9.7"
  }
 },
 "nbformat": 4,
 "nbformat_minor": 5
}
